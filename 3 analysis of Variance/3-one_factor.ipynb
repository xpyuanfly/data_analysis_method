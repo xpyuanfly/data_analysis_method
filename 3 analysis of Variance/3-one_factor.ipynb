{
 "cells": [
  {
   "cell_type": "code",
   "execution_count": 31,
   "metadata": {},
   "outputs": [
    {
     "name": "stdout",
     "output_type": "stream",
     "text": [
      "u= 216.26315789473685\n",
      "abar=208.375  bbar=203.5  cbar=232.57142857142858\n",
      "sgm_A=-7.88815789473685  sgm_B=-12.76315789473685  sgm_C=16.308270676691734\n",
      "SSE= 12882.589285714286\n",
      "SSA= 3011.094924812033\n",
      "SST= 15893.684210526319\n",
      "DB=2 DF=16 DW=18\n",
      "f= 1.8698693922664043\n",
      "F= 1.8698693922664025 p= 0.1863067759191735\n"
     ]
    }
   ],
   "source": [
    "import numpy as np\n",
    "from scipy.stats import f_oneway\n",
    "A = [164, 190, 203, 205, 206, 214, 228, 257]\n",
    "B = [185, 197, 201, 231]\n",
    "C = [187, 212, 215, 220, 248, 265, 281]\n",
    "\n",
    "a = 3\n",
    "n = len(A)+len(B)+len(C) #19\n",
    "u = np.sum(A+B+C)/n \n",
    "print('u=',u)\n",
    "\n",
    "A_bar = np.mean(A)\n",
    "B_bar = np.mean(B)\n",
    "C_bar = np.mean(C)\n",
    "print('abar={}  bbar={}  cbar={}'.format(A_bar,B_bar,C_bar))\n",
    "\n",
    "#sigma_i\n",
    "sgm_A = A_bar-u\n",
    "sgm_B = B_bar-u\n",
    "sgm_C = C_bar-u\n",
    "print('sgm_A={}  sgm_B={}  sgm_C={}'.format(sgm_A,sgm_B,sgm_C))\n",
    "\n",
    "#SSE\n",
    "SSE = np.sum([(x-A_bar)**2 for x in A])+np.sum([(x-B_bar)**2 for x in B])+np.sum([(x-C_bar)**2 for x in C])\n",
    "print('SSE=',SSE)\n",
    "\n",
    "#SSA\n",
    "#SSA = np.sum([(A_bar-u)**2 for x in range(len(A))])*len(A)+np.sum([(B_bar-u)**2 for x in range(len(B))])*len(B)+np.sum([(B_bar-u)**2 for x in range(len(C))])*len(C)\n",
    "SSA = (A_bar-u)**2*len(A) + (B_bar-u)**2*len(B) + (C_bar-u)**2*len(C) \n",
    "print('SSA=',SSA)\n",
    "\n",
    "#SST\n",
    "SST = SSA + SSE\n",
    "print('SST=', SST)\n",
    "\n",
    "#因素a DB、 误差DF、 总和DW\n",
    "DB = a - 1\n",
    "DF = n - a\n",
    "DW = DB + DF\n",
    "print('DB={} DF={} DW={}'.format(DB,DF,DW))\n",
    "\n",
    "#f值\n",
    "MSA = SSA/DB\n",
    "MSE = SSE/DF\n",
    "f = MSA/MSE\n",
    "print('f=',f)\n",
    "F,p = f_oneway(A,B,C)\n",
    "print('F=',F,'p=',p)"
   ]
  },
  {
   "cell_type": "markdown",
   "metadata": {},
   "source": []
  }
 ],
 "metadata": {
  "kernelspec": {
   "display_name": "Python 3",
   "language": "python",
   "name": "python3"
  },
  "language_info": {
   "codemirror_mode": {
    "name": "ipython",
    "version": 3
   },
   "file_extension": ".py",
   "mimetype": "text/x-python",
   "name": "python",
   "nbconvert_exporter": "python",
   "pygments_lexer": "ipython3",
   "version": "3.8.5"
  }
 },
 "nbformat": 4,
 "nbformat_minor": 4
}
