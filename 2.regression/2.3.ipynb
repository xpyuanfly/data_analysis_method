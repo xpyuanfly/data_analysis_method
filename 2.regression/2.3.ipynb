{
 "cells": [
  {
   "cell_type": "code",
   "execution_count": 1,
   "id": "2f3fcc2c",
   "metadata": {},
   "outputs": [
    {
     "name": "stdout",
     "output_type": "stream",
     "text": [
      "     x1  x2   x3     y\n",
      "0   3.5   9  6.1  33.2\n",
      "1   5.3  20  6.4  40.3\n",
      "2   5.1  18  7.4  38.7\n",
      "3   5.8  33  6.7  46.8\n",
      "4   4.2  31  7.5  41.4\n",
      "5   6.0  13  5.9  37.5\n",
      "6   6.8  25  6.0  39.0\n",
      "7   5.5  30  4.0  40.7\n",
      "8   3.1   5  5.8  30.1\n",
      "9   7.2  47  8.3  52.9\n",
      "10  4.5  25  5.0  38.2\n",
      "11  4.9  11  6.4  31.8\n",
      "12  8.0  23  7.6  43.3\n",
      "13  6.5  35  7.0  44.1\n",
      "14  6.6  39  5.0  42.8\n",
      "15  3.7  21  4.4  33.6\n",
      "16  6.2   7  5.5  34.2\n",
      "17  7.0  40  7.0  48.0\n",
      "18  4.0  35  6.0  38.0\n",
      "19  4.5  23  3.5  35.9\n",
      "20  5.9  33  4.9  40.4\n",
      "21  5.6  27  4.3  36.8\n",
      "22  4.8  34  8.0  45.2\n",
      "23  3.9  15  5.0  35.1\n"
     ]
    }
   ],
   "source": [
    "import pandas as pd\n",
    "import numpy as np\n",
    "data=pd.read_excel(\"G:\\shuju2.xlsx\")\n",
    "print(data)"
   ]
  },
  {
   "cell_type": "code",
   "execution_count": 4,
   "id": "504ad4d4",
   "metadata": {},
   "outputs": [],
   "source": [
    "y=data.iloc[:,3]\n",
    "x=data.iloc[:,:3]\n"
   ]
  },
  {
   "cell_type": "code",
   "execution_count": 35,
   "id": "2dbb623b",
   "metadata": {},
   "outputs": [],
   "source": [
    "class LinearRegression:\n",
    "    \n",
    "    def __init__(self):\n",
    "        self.theta = None\n",
    "        \n",
    "    def fit(self, X_train, y_train):\n",
    "        ones = np.ones((len(X_train), 1))\n",
    "        X = np.hstack([ones, X_train])\n",
    "        self.theta = np.linalg.inv(X.T.dot(X)).dot(X.T).dot(y_train)  #𝜃公式\n",
    "        return self.theta\n",
    "    \n",
    "    def predict(self, X_test):\n",
    "        X = np.hstack([np.ones((len(X_test), 1)), X_test])\n",
    "        return X.dot(self.theta)"
   ]
  },
  {
   "cell_type": "code",
   "execution_count": 23,
   "id": "be90aeea",
   "metadata": {},
   "outputs": [],
   "source": [
    "def sse_score(y_pred, y):\n",
    "#     残差平方和（拟合数据和原始数据误差的平方和）\n",
    "    sse=np.sum((y_pred - y) ** 2)\n",
    "    return sse\n",
    "\n",
    "def ssr_score(y_pred, y):\n",
    "#     回归平方和\n",
    "    y_mean=np.mean(y)\n",
    "    ssr=np.sum((y_pred - y_mean) ** 2)\n",
    "    return ssr\n",
    "\n",
    "def sst_score(y):\n",
    "#     总离差平方和\n",
    "    y_mean=np.mean(y)\n",
    "    sst=np.sum((y - y_mean) ** 2)\n",
    "    return sst\n"
   ]
  },
  {
   "cell_type": "code",
   "execution_count": 37,
   "id": "824018cc",
   "metadata": {},
   "outputs": [
    {
     "name": "stdout",
     "output_type": "stream",
     "text": [
      "theta= [17.84693064  1.1031304   0.32151968  1.2889409 ]\n"
     ]
    }
   ],
   "source": [
    "LR = LinearRegression()\n",
    "theta=LR.fit(x,y)\n",
    "print('theta=',theta)\n",
    "# 模型预测\n",
    "y_pred = LR.predict(x)\n",
    "sse=sse_score(y_pred, y)\n",
    "ssr=ssr_score(y_pred, y)\n",
    "sst=sst_score(y)"
   ]
  },
  {
   "cell_type": "code",
   "execution_count": 54,
   "id": "5695d02f",
   "metadata": {},
   "outputs": [
    {
     "name": "stdout",
     "output_type": "stream",
     "text": [
      "y_pred= [32.46410362 38.37313709 38.79841255 43.49114042 42.11424514 36.25022015\n",
      " 41.11985473 38.71550184 30.35009046 51.59910394 37.29371393 35.0382078\n",
      " 43.86287728 45.29305333 44.1115633  34.35176635 34.02615178 47.45221693\n",
      " 41.24628644 34.71726322 41.28135984 38.2479381  44.38515287 33.41663888]\n",
      "sse= 61.44300363476308\n",
      "ssr= 627.8169963652383\n",
      "sst=  689.2599999999998 \n",
      "sst=ssr+sse= 689.2600000000014\n",
      "msr= 209.2723321217461\n",
      "mse= 3.072150181738154\n",
      "R Square= 0.9108565655416512\n",
      "Multiple R= 0.9543880581512172\n",
      "标准误差= 1.7527550261625708\n"
     ]
    }
   ],
   "source": [
    "print('y_pred=',y_pred)\n",
    "print('sse=',sse)\n",
    "print('ssr=',ssr)\n",
    "print('sst= ',sst,'\\nsst=ssr+sse=',ssr+sse)\n",
    "p=4\n",
    "# MSR=SSR/P-1\n",
    "msr=ssr/(p-1)\n",
    "print('msr=',msr)\n",
    "# MSE=SSE/n-p\n",
    "mse=sse/(len(y)-p)\n",
    "print('mse=',mse)\n",
    "print('R Square=',ssr/sst)\n",
    "print('Multiple R=',np.sqrt(ssr/sst))\n",
    "print('标准误差=',np.sqrt(sse/(len(y)-p)))"
   ]
  },
  {
   "cell_type": "code",
   "execution_count": 46,
   "id": "8822f010",
   "metadata": {},
   "outputs": [
    {
     "name": "stdout",
     "output_type": "stream",
     "text": [
      "F= 68.11917378444842\n"
     ]
    }
   ],
   "source": [
    "f=msr/mse\n",
    "print('F=',f)"
   ]
  },
  {
   "cell_type": "code",
   "execution_count": 43,
   "id": "05323d18",
   "metadata": {},
   "outputs": [
    {
     "name": "stdout",
     "output_type": "stream",
     "text": [
      "[2.001875718505341, 0.32957332431801173, 0.03710864908504058, 0.29847913006092575]\n"
     ]
    },
    {
     "name": "stderr",
     "output_type": "stream",
     "text": [
      "C:\\Users\\惠普\\AppData\\Local\\Temp\\ipykernel_8772\\3486712052.py:5: RuntimeWarning: invalid value encountered in sqrt\n",
      "  p=np.sqrt(mse*p)\n"
     ]
    }
   ],
   "source": [
    "# 标准误差(标准误是MSE*(XTX)-1的主对角线的第k个元素的算数平方根)\n",
    "ones = np.ones((len(x), 1))\n",
    "X = np.hstack([ones, x])\n",
    "p= np.linalg.inv(X.T.dot(X))\n",
    "p=np.sqrt(mse*p)\n",
    "s_theta=[p[0,0],p[1,1],p[2,2],p[3,3]]\n",
    "print(s_theta)"
   ]
  },
  {
   "cell_type": "code",
   "execution_count": 39,
   "id": "6a097969",
   "metadata": {},
   "outputs": [
    {
     "name": "stdout",
     "output_type": "stream",
     "text": [
      "t= [8.91510421 3.3471471  8.6642788  4.31836188]\n"
     ]
    }
   ],
   "source": [
    "t=theta/s_theta\n",
    "print('t=',t)"
   ]
  },
  {
   "cell_type": "code",
   "execution_count": 52,
   "id": "2e2955b0",
   "metadata": {},
   "outputs": [
    {
     "name": "stdout",
     "output_type": "stream",
     "text": [
      "lower= [13.671017887687661, 0.4156404406122537, 0.24411103945830792, 0.6663134304543502]\n",
      "upper= [22.022843385291942, 1.7906203496669986, 0.3989283234410972, 1.9115683610685323]\n"
     ]
    }
   ],
   "source": [
    "lower,upper=[],[]\n",
    "for i in range(4):\n",
    "    lo=theta[i]-s_theta[i]*2.086\n",
    "    up=theta[i]+s_theta[i]*2.086\n",
    "    lower.append(lo)\n",
    "    upper.append(up)\n",
    "print('lower=',lower)\n",
    "print('upper=',upper)"
   ]
  },
  {
   "cell_type": "code",
   "execution_count": 11,
   "id": "328b2647",
   "metadata": {},
   "outputs": [
    {
     "name": "stdout",
     "output_type": "stream",
     "text": [
      "0     0.735896\n",
      "1     1.926863\n",
      "2    -0.098413\n",
      "3     3.308860\n",
      "4    -0.714245\n",
      "5     1.249780\n",
      "6    -2.119855\n",
      "7     1.984498\n",
      "8    -0.250090\n",
      "9     1.300896\n",
      "10    0.906286\n",
      "11   -3.238208\n",
      "12   -0.562877\n",
      "13   -1.193053\n",
      "14   -1.311563\n",
      "15   -0.751766\n",
      "16    0.173848\n",
      "17    0.547783\n",
      "18   -3.246286\n",
      "19    1.182737\n",
      "20   -0.881360\n",
      "21   -1.447938\n",
      "22    0.814847\n",
      "23    1.683361\n",
      "Name: y, dtype: float64\n"
     ]
    }
   ],
   "source": [
    "# 残差\n",
    "a=y-y_pred\n",
    "print(a)"
   ]
  },
  {
   "cell_type": "code",
   "execution_count": 15,
   "id": "32b7036c",
   "metadata": {},
   "outputs": [
    {
     "name": "stdout",
     "output_type": "stream",
     "text": [
      "0     0.450240\n",
      "1     1.178904\n",
      "2    -0.060211\n",
      "3     2.024445\n",
      "4    -0.436994\n",
      "5     0.764647\n",
      "6    -1.296982\n",
      "7     1.214167\n",
      "8    -0.153012\n",
      "9     0.795922\n",
      "10    0.554489\n",
      "11   -1.981219\n",
      "12   -0.344383\n",
      "13   -0.729941\n",
      "14   -0.802448\n",
      "15   -0.459950\n",
      "16    0.106365\n",
      "17    0.335148\n",
      "18   -1.986161\n",
      "19    0.723629\n",
      "20   -0.539239\n",
      "21   -0.885886\n",
      "22    0.498544\n",
      "23    1.029924\n",
      "Name: y, dtype: float64\n"
     ]
    }
   ],
   "source": [
    "# 标准残差\n",
    "s=np.sum(a**2)/(len(y)-1)\n",
    "s1=np.sqrt(s)\n",
    "print(a/s1)"
   ]
  },
  {
   "cell_type": "code",
   "execution_count": null,
   "id": "4309e34a",
   "metadata": {},
   "outputs": [],
   "source": []
  }
 ],
 "metadata": {
  "kernelspec": {
   "display_name": "Python 3 (ipykernel)",
   "language": "python",
   "name": "python3"
  },
  "language_info": {
   "codemirror_mode": {
    "name": "ipython",
    "version": 3
   },
   "file_extension": ".py",
   "mimetype": "text/x-python",
   "name": "python",
   "nbconvert_exporter": "python",
   "pygments_lexer": "ipython3",
   "version": "3.9.12"
  }
 },
 "nbformat": 4,
 "nbformat_minor": 5
}
