{
 "cells": [
  {
   "cell_type": "code",
   "execution_count": 1,
   "id": "969cb4b0",
   "metadata": {},
   "outputs": [
    {
     "name": "stdout",
     "output_type": "stream",
     "text": [
      "    城市  人数x1  收入x2  销量y\n",
      "0    1  27.4  2450  162\n",
      "1    2  18.0  3254  120\n",
      "2    3  37.5  3802  223\n",
      "3    4  20.5  2838  131\n",
      "4    5   8.6  2347   67\n",
      "5    6  26.5  3782  169\n",
      "6    7   9.8  3008   81\n",
      "7    8  33.0  2450  192\n",
      "8    9  19.5  2137  116\n",
      "9   10   5.3  2560   55\n",
      "10  11  43.0  4020  252\n",
      "11  12  37.2  4427  232\n",
      "12  13  23.6  2660  144\n",
      "13  14  15.7  2088  103\n",
      "14  15  37.0  2605  212\n"
     ]
    }
   ],
   "source": [
    "import pandas as pd\n",
    "import numpy as np\n",
    "data=pd.read_excel(\"G:\\shuju.xlsx\")\n",
    "print(data)"
   ]
  },
  {
   "cell_type": "code",
   "execution_count": 2,
   "id": "d8a98319",
   "metadata": {},
   "outputs": [],
   "source": [
    "y=data.iloc[:,3]\n",
    "x=data.iloc[:,1:3]"
   ]
  },
  {
   "cell_type": "code",
   "execution_count": 3,
   "id": "6218ff00",
   "metadata": {},
   "outputs": [],
   "source": [
    "def mse_score(y_pred, y):\n",
    "#     均方误差\n",
    "    mse = np.mean((y_pred - y) ** 2)\n",
    "    return mse\n",
    "\n",
    "def sse_score(y_pred, y):\n",
    "#     残差平方和（拟合数据和原始数据误差的平方和）\n",
    "    sse=np.sum((y_pred - y) ** 2)\n",
    "    return sse\n",
    "\n",
    "def ssr_score(y_pred, y):\n",
    "#     回归平方和\n",
    "    y_mean=np.mean(y)\n",
    "    ssr=np.sum((y_pred - y_mean) ** 2)\n",
    "    return ssr\n",
    "\n",
    "def sst_score(y):\n",
    "#     总离差平方和\n",
    "    y_mean=np.mean(y)\n",
    "    sst=np.sum((y - y_mean) ** 2)\n",
    "    return sst\n",
    "\n",
    "def wucha(X,Y,p):\n",
    "# σ^2\n",
    "    ones = np.ones((len(X), 1))\n",
    "    X = np.hstack([ones, X])\n",
    "    a=np.linalg.inv(X.T.dot(X))\n",
    "    H=X.dot(a).dot(X.T)\n",
    "    E=np.eye(15)\n",
    "    s=Y.T.dot(E-H).dot(Y)/(len(y)-p)\n",
    "    return s"
   ]
  },
  {
   "cell_type": "code",
   "execution_count": 4,
   "id": "ef1b0bfb",
   "metadata": {},
   "outputs": [],
   "source": [
    "class LinearRegression:\n",
    "    \n",
    "    def __init__(self):\n",
    "        self.theta = None\n",
    "        \n",
    "    def fit(self, X_train, y_train):\n",
    "        ones = np.ones((len(X_train), 1))\n",
    "        X = np.hstack([ones, X_train])\n",
    "        self.theta = np.linalg.inv(X.T.dot(X)).dot(X.T).dot(y_train)  #𝜃公式\n",
    "        return self.theta\n",
    "    \n",
    "    def predict(self, X_test):\n",
    "        X = np.hstack([np.ones((len(X_test), 1)), X_test])\n",
    "        return X.dot(self.theta)"
   ]
  },
  {
   "cell_type": "code",
   "execution_count": 5,
   "id": "30eeffb3",
   "metadata": {},
   "outputs": [
    {
     "name": "stdout",
     "output_type": "stream",
     "text": [
      "theta= [3.45261279 4.96004976 0.00919908]\n"
     ]
    }
   ],
   "source": [
    "LR = LinearRegression()\n",
    "theta=LR.fit(x,y)\n",
    "print('theta=',theta)\n",
    "# 模型预测\n",
    "y_pred = LR.predict(x)\n",
    "# 评价模型\n",
    "mse_s = mse_score(y_pred, y)\n",
    "sse=sse_score(y_pred, y)\n",
    "s=wucha(x,y,3)\n",
    "ssr=ssr_score(y_pred, y)\n",
    "sst=sst_score(y)"
   ]
  },
  {
   "cell_type": "code",
   "execution_count": 6,
   "id": "0e25b747",
   "metadata": {},
   "outputs": [
    {
     "name": "stdout",
     "output_type": "stream",
     "text": [
      "y_pred= [161.89572437 122.66731763 224.42938429 131.24062439  67.69928353\n",
      " 169.6848553   79.7319357  189.67200303 119.83201895  53.29052354\n",
      " 253.7150576  228.6907949  144.97934226 100.53307489 210.93805961]\n",
      "mse_s= 3.79223770394199\n",
      "σ^2= 4.740297129974294\n",
      "sse= 56.88356555912985\n",
      "ssr= 53844.71643444067\n",
      "sst=  53901.6 \n",
      "sst=ssr+sse= 53901.5999999998\n",
      "msr= 26922.358217220335\n",
      "mse= 4.740297129927487\n",
      "R Square= 0.998944677605872\n",
      "Multiple R= 0.9994721995162607\n",
      "标准误差= 2.177222342786213\n"
     ]
    }
   ],
   "source": [
    "print('y_pred=',y_pred)\n",
    "print('mse_s=',mse_s)\n",
    "print('σ^2=',s)\n",
    "print('sse=',sse)\n",
    "print('ssr=',ssr)\n",
    "print('sst= ',sst,'\\nsst=ssr+sse=',ssr+sse)\n",
    "p=3\n",
    "# MSR=SSR/P-1\n",
    "msr=ssr/(p-1)\n",
    "print('msr=',msr)\n",
    "# MSE=SSE/n-p\n",
    "mse=sse/(len(y)-p)\n",
    "print('mse=',mse)\n",
    "print('R Square=',ssr/sst)\n",
    "print('Multiple R=',np.sqrt(ssr/sst))\n",
    "print('标准误差=',np.sqrt(sse/(len(y)-p)))"
   ]
  },
  {
   "cell_type": "code",
   "execution_count": 7,
   "id": "8acb9776",
   "metadata": {},
   "outputs": [
    {
     "name": "stdout",
     "output_type": "stream",
     "text": [
      "F= 5679.466387718225\n"
     ]
    }
   ],
   "source": [
    "f=msr/mse\n",
    "print('F=',f)"
   ]
  },
  {
   "cell_type": "code",
   "execution_count": 13,
   "id": "4797af96",
   "metadata": {},
   "outputs": [
    {
     "name": "stdout",
     "output_type": "stream",
     "text": [
      "[2.430650493434744, 0.06054441184221785, 0.00096811388863318]\n"
     ]
    },
    {
     "name": "stderr",
     "output_type": "stream",
     "text": [
      "C:\\Users\\惠普\\AppData\\Local\\Temp\\ipykernel_5720\\386786854.py:5: RuntimeWarning: invalid value encountered in sqrt\n",
      "  p=np.sqrt(mse*p)\n"
     ]
    }
   ],
   "source": [
    "# 标准误差(标准误是MSE*(XTX)-1的主对角线的第k个元素的算数平方根)\n",
    "ones = np.ones((len(x), 1))\n",
    "X = np.hstack([ones, x])\n",
    "p= np.linalg.inv(X.T.dot(X))\n",
    "p=np.sqrt(mse*p)\n",
    "s_theta=[p[0,0],p[1,1],p[2,2]]\n",
    "print(s_theta)"
   ]
  },
  {
   "cell_type": "code",
   "execution_count": 21,
   "id": "ea1ac7dd",
   "metadata": {},
   "outputs": [
    {
     "name": "stdout",
     "output_type": "stream",
     "text": [
      "t= [ 1.42044806 81.92415469  9.50206476]\n"
     ]
    }
   ],
   "source": [
    "t=theta/s_theta\n",
    "print('t=',t)"
   ]
  },
  {
   "cell_type": "code",
   "execution_count": 22,
   "id": "ad73cecc",
   "metadata": {},
   "outputs": [
    {
     "name": "stdout",
     "output_type": "stream",
     "text": [
      "lower= [-1.8437746352904405, 4.82812348774723, 0.007089560703642563]\n",
      "upper= [8.749000215098174, 5.091976034555615, 0.01130860103030596]\n"
     ]
    }
   ],
   "source": [
    "lower,upper=[],[]\n",
    "for i in range(3):\n",
    "    lo=theta[i]-s_theta[i]*2.179\n",
    "    up=theta[i]+s_theta[i]*2.179\n",
    "    lower.append(lo)\n",
    "    upper.append(up)\n",
    "print('lower=',lower)\n",
    "print('upper=',upper)"
   ]
  },
  {
   "cell_type": "code",
   "execution_count": 14,
   "id": "4d975ebb",
   "metadata": {},
   "outputs": [
    {
     "name": "stdout",
     "output_type": "stream",
     "text": [
      "0     0.104276\n",
      "1    -2.667318\n",
      "2    -1.429384\n",
      "3    -0.240624\n",
      "4    -0.699284\n",
      "5    -0.684855\n",
      "6     1.268064\n",
      "7     2.327997\n",
      "8    -3.832019\n",
      "9     1.709476\n",
      "10   -1.715058\n",
      "11    3.309205\n",
      "12   -0.979342\n",
      "13    2.466925\n",
      "14    1.061940\n",
      "Name: 销量y, dtype: float64\n"
     ]
    }
   ],
   "source": [
    "# 残差\n",
    "r=y-y_pred\n",
    "print(r)"
   ]
  },
  {
   "cell_type": "code",
   "execution_count": 15,
   "id": "0a62dd1e",
   "metadata": {},
   "outputs": [
    {
     "name": "stdout",
     "output_type": "stream",
     "text": [
      "0     0.051731\n",
      "1    -1.323260\n",
      "2    -0.709120\n",
      "3    -0.119374\n",
      "4    -0.346916\n",
      "5    -0.339758\n",
      "6     0.629089\n",
      "7     1.154923\n",
      "8    -1.901071\n",
      "9     0.848074\n",
      "10   -0.850843\n",
      "11    1.641702\n",
      "12   -0.485853\n",
      "13    1.223845\n",
      "14    0.526830\n",
      "Name: 销量y, dtype: float64\n"
     ]
    }
   ],
   "source": [
    "# 标准残差\n",
    "s=np.sum(r**2)/(len(y)-1)\n",
    "s1=np.sqrt(s)\n",
    "print(r/s1)"
   ]
  },
  {
   "cell_type": "code",
   "execution_count": 42,
   "id": "04356ea6",
   "metadata": {},
   "outputs": [
    {
     "data": {
      "image/png": "[encoded data removed]",
      "text/plain": [
       "<Figure size 432x288 with 1 Axes>"
      ]
     },
     "metadata": {
      "needs_background": "light"
     },
     "output_type": "display_data"
    }
   ],
   "source": [
    "import numpy as np\n",
    "import matplotlib.pyplot as plt\n",
    "import mpl_toolkits.mplot3d\n",
    " \n",
    "ax = plt.subplot(projection = '3d')\n",
    "ax.set_xlabel('X1')  # 设置x坐标轴\n",
    "ax.set_ylabel('X2')  # 设置y坐标轴\n",
    "ax.set_zlabel('Y')  # 设置z坐标轴\n",
    "\n",
    "#曲面 \n",
    "theta= np.array([3.45261279,4.96004976,0.00919908])\n",
    "x1, x2 = np.meshgrid(np.arange(0, 50,2),\n",
    "                   np.arange(2000, 5000,2))\n",
    "y=x1*theta[1]+x2*theta[2]+theta[0]\n",
    "ax.plot_surface(x1,x2,y,color='y') \n",
    "\n",
    "#散点\n",
    "x1 = data.iloc[:,1]\n",
    "x2 = data.iloc[:,2]\n",
    "y = data.iloc[:,3]\n",
    "ax.scatter(x1, x2, y,color='r') \n",
    "plt.show()"
   ]
  },
  {
   "cell_type": "code",
   "execution_count": null,
   "id": "0570eaad",
   "metadata": {},
   "outputs": [],
   "source": []
  }
 ],
 "metadata": {
  "kernelspec": {
   "display_name": "Python 3 (ipykernel)",
   "language": "python",
   "name": "python3"
  },
  "language_info": {
   "codemirror_mode": {
    "name": "ipython",
    "version": 3
   },
   "file_extension": ".py",
   "mimetype": "text/x-python",
   "name": "python",
   "nbconvert_exporter": "python",
   "pygments_lexer": "ipython3",
   "version": "3.9.12"
  }
 },
 "nbformat": 4,
 "nbformat_minor": 5
}
