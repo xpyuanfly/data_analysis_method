{
 "cells": [
  {
   "cell_type": "code",
   "execution_count": 21,
   "id": "c0876d3b",
   "metadata": {},
   "outputs": [
    {
     "data": {
      "image/png": "[encoded data removed]",
      "text/plain": [
       "<Figure size 432x288 with 1 Axes>"
      ]
     },
     "metadata": {
      "needs_background": "light"
     },
     "output_type": "display_data"
    }
   ],
   "source": [
    "import matplotlib.pyplot as plt\n",
    "import numpy as np\n",
    "#长度为x1，宽度为x2\n",
    "x1 = [3,4,6,6,6,7,7,8,9,9,9,10,11,12,12,13,13,13,13,14,15,17,17,18,20]\n",
    "x2 = [2,10,5,8,10,2,13,9,5,8,14,7,12,10,11,6,14,15,17,7,13,13,17,19,20]\n",
    "plt.scatter(x1, x2) #绘图_未标准化数据\n",
    "plt.show()"
   ]
  },
  {
   "cell_type": "code",
   "execution_count": 25,
   "id": "1db4369c",
   "metadata": {},
   "outputs": [
    {
     "name": "stdout",
     "output_type": "stream",
     "text": [
      "长度的均值： 10.88 长度的方差： 19.4656 长度的标准差： 4.411983680840173\n",
      "宽度的均值： 10.68 宽度的方差： 23.097600000000003 宽度的标准差： 4.805996254680189\n",
      "x1标准化后成为x1_S：\n",
      " [-1.7860446842132052, -1.5593892674348795, -1.1060784338782286, -1.1060784338782286, -1.1060784338782286, -0.8794230170999031, -0.8794230170999031, -0.6527676003215777, -0.4261121835432521, -0.4261121835432521, -0.4261121835432521, -0.1994567667649266, 0.027198650013398884, 0.2538540667917244, 0.2538540667917244, 0.48050948357004986, 0.48050948357004986, 0.48050948357004986, 0.48050948357004986, 0.7071649003483753, 0.9338203171267009, 1.387131150683352, 1.387131150683352, 1.6137865674616774, 2.0670974010183283]\n",
      "x2标准化后成为x2_S：\n",
      " [-1.8060771461374354, -0.14148991467436126, -1.1818569343387826, -0.5576367225401297, -0.14148991467436126, -1.8060771461374354, 0.48273029712429155, -0.34956331860724554, -1.1818569343387826, -0.5576367225401297, 0.6908037010571758, -0.7657101264730141, 0.2746568931914073, -0.14148991467436126, 0.06658348925852303, -0.9737835304058984, 0.6908037010571758, 0.8988771049900601, 1.3150239128558288, -0.7657101264730141, 0.48273029712429155, 0.48273029712429155, 1.3150239128558288, 1.7311707207215972, 1.9392441246544816]\n",
      "标准化后的均值：\n",
      " -1.2434497875801754e-16 6.217248937900877e-17\n",
      "标准化后的方差：\n",
      " 1.0 0.9999999999999997\n",
      "标准化后的标准差：\n",
      " 1.0 0.9999999999999998\n"
     ]
    },
    {
     "data": {
      "image/png": "[encoded data removed]",
      "text/plain": [
       "<Figure size 432x288 with 1 Axes>"
      ]
     },
     "metadata": {
      "needs_background": "light"
     },
     "output_type": "display_data"
    }
   ],
   "source": [
    "#通过数据求出均值，方差，标准差，以及标准化后的新数据\n",
    "mean_x1 = np.mean(x1)\n",
    "var_x1 = np.var(x1)\n",
    "std_x1 = np.std(x1,ddof = 0)\n",
    "print(\"长度的均值：\",mean_x1,\"长度的方差：\",var_x1,\"长度的标准差：\",std_x1)\n",
    "mean_x2 = np.mean(x2)\n",
    "var_x2 = np.var(x2)\n",
    "std_x2 = np.std(x2,ddof = 0)\n",
    "print(\"宽度的均值：\",mean_x2,\"宽度的方差：\",var_x2,\"宽度的标准差：\",std_x2)\n",
    "x1_S=[(x-mean_x1)/std_x1 for x in x1]\n",
    "x2_S=[(x-mean_x2)/std_x2 for x in x2]\n",
    "print(\"x1标准化后成为x1_S：\\n\",x1_S)\n",
    "print(\"x2标准化后成为x2_S：\\n\",x2_S)\n",
    "print(\"标准化后的均值：\\n\",np.mean(x1_S),np.mean(x2_S))\n",
    "print(\"标准化后的方差：\\n\",np.var(x1_S),np.var(x2_S))\n",
    "print(\"标准化后的标准差：\\n\",np.std(x1_S,ddof=0),np.std(x2_S,ddof=0))\n",
    "plt.scatter(x1_S, x2_S) #绘图_标准化后数据\n",
    "plt.show()"
   ]
  },
  {
   "cell_type": "markdown",
   "id": "a2a9278a",
   "metadata": {},
   "source": [
    "标准化变量的意义在于：避免量纲不同而导致的方差过大，从而影响贡献率，影响判断的问题。\n",
    "\n",
    "对于$X = (X_1,X_2,X_3\\cdots,X_p)^T$，设$\\mu_k = E(X_k)$,$\\sigma_{kk} = Var(X_k)$,$k = 1,2,\\cdots,p$\n",
    "则其标准化变量为\n",
    "\\begin{gather*}\n",
    "X_k^* = \\frac{X_k - \\mu_k}{\\sqrt \\sigma_{kk}}\n",
    "\\end{gather*}"
   ]
  },
  {
   "cell_type": "code",
   "execution_count": 11,
   "id": "20396e02",
   "metadata": {},
   "outputs": [
    {
     "name": "stdout",
     "output_type": "stream",
     "text": [
      "相关系数矩阵：\n",
      " [[1.         0.70560348]\n",
      " [0.70560348 1.        ]]\n",
      "特征值 1 ： 1.7056034803123779\n",
      "单位特征向量 1 ： [ 0.70710678 -0.70710678]\n",
      "特征值 2 ： 0.29439651968762215\n",
      "单位特征向量 2 ： [0.70710678 0.70710678]\n",
      "第 1 个主成分的贡献率:85.28%\n",
      "第 2 个主成分的贡献率:14.72%\n"
     ]
    }
   ],
   "source": [
    "# 组合X1_S与X1_S从而求得相关系数矩阵\n",
    "matrix = [x1_S,x2_S]\n",
    "covariance= np.corrcoef(matrix)\n",
    "print(\"相关系数矩阵：\\n\",covariance)\n",
    "# 利用函数求出相关系数矩阵的特征值与对应特征向量\n",
    "eigenvalue, featurevector = np.linalg.eig(covariance)\n",
    "eigenvalueTotal = 0\n",
    "for i in range(len(eigenvalue)):\n",
    "    print(\"特征值\",i+1,\"：\", eigenvalue[i])\n",
    "    print(\"单位特征向量\",i+1,\"：\", featurevector[i])    #输出特征值与对应特征向量\n",
    "    eigenvalueTotal += eigenvalue[i]                    #特征值的和\n",
    "sortedeigenvalue = sorted(eigenvalue,reverse = True)    #对特征值数组进行降序排序，以便最后输出最少贡献率成分\n",
    "#由特征值可得知各成分的贡献率\n",
    "for i in range(len(sortedeigenvalue)):\n",
    "    print(\"第\",i+1,\"个主成分的贡献率:{:.2%}\".format(sortedeigenvalue[i]/eigenvalueTotal))#输出各成分的贡献率"
   ]
  },
  {
   "cell_type": "code",
   "execution_count": 43,
   "id": "83170ede",
   "metadata": {},
   "outputs": [
    {
     "data": {
      "image/png": "[encoded data removed]",
      "text/plain": [
       "<Figure size 432x288 with 1 Axes>"
      ]
     },
     "metadata": {
      "needs_background": "light"
     },
     "output_type": "display_data"
    }
   ],
   "source": [
    "P = np.mat([featurevector[0],featurevector[1]])\n",
    "x1_N = []\n",
    "x2_N = []                #建立新坐标组\n",
    "for i in range(len(x1_S)):\n",
    "    mat = np.mat([x1_S[i],x2_S[i]]).dot(P).A\n",
    "    x1_N.append(mat[0][0])\n",
    "    x2_N.append(mat[0][1])\n",
    "plt.scatter(x1_S, x2_S) #绘图_标准化后数据    蓝！\n",
    "plt.scatter(x1_N, x2_N) #绘图_标准化后数据经坐标转换后    橙！\n",
    "plt.show()"
   ]
  },
  {
   "cell_type": "code",
   "execution_count": null,
   "id": "91e1b695",
   "metadata": {},
   "outputs": [],
   "source": []
  }
 ],
 "metadata": {
  "kernelspec": {
   "display_name": "Python 3 (ipykernel)",
   "language": "python",
   "name": "python3"
  },
  "language_info": {
   "codemirror_mode": {
    "name": "ipython",
    "version": 3
   },
   "file_extension": ".py",
   "mimetype": "text/x-python",
   "name": "python",
   "nbconvert_exporter": "python",
   "pygments_lexer": "ipython3",
   "version": "3.9.12"
  }
 },
 "nbformat": 4,
 "nbformat_minor": 5
}
