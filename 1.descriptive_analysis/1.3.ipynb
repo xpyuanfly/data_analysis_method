{
 "cells": [
  {
   "cell_type": "markdown",
   "metadata": {},
   "source": [
    "## 1.3 多维数据的数字特征及相关分析\n",
    "\n",
    "### 1.3.1 二维数据的数字特征及相关系数"
   ]
  },
  {
   "cell_type": "markdown",
   "metadata": {},
   "source": [
    "$(X,Y)^T$ 是二维总体，样本$(x_i,y_i)^T,i=1,2...,n$ <br/>\n",
    "观测矩阵 \n",
    "$X=\\begin{bmatrix} x_1 & x_2 & ... & x_n \\\\ \n",
    "                    y_1 & y_2 & ... & y_n \n",
    "   \\end{bmatrix}$ <br/>\n",
    "#### (1)二维观测数据均值向量$(\\bar{x},\\bar{y})^T$ \n",
    "$\\bar{x}=\\frac{1}{n} \\sum_{i=1}^{n} x_i$  &emsp;  \n",
    "$\\bar{y}=\\frac{1}{n} \\sum_{i=1}^{n} y_i$  <br/>\n",
    "#### (3)X,Y观测数据的方差、协方差 \n",
    "$S_{xx}=\\frac{1}{n-1} \\sum_{i=1}^{n} (x_i-\\bar{x})^2$  &emsp;\n",
    "$S_{yy}=\\frac{1}{n-1} \\sum_{i=1}^{n} (y_i-\\bar{y})^2$  &emsp;\n",
    "$S_{xy}=\\frac{1}{n-1} \\sum_{i=1}^{n} (x_i-\\bar{x})(y_i-\\bar{y})$  <br/>\n",
    "\n",
    "在概率论和统计学中用于衡量**两个变量的总体误差**。而方差是协方差的一种特殊情况，即当两个变量是相同的情况。\n",
    "协方差表示的是两个变量的总体的误差，这与只表示一个变量误差的方差不同。如果两个变量的变化趋势一致，也就是说如果其中一个大于自身的期望值，另外一个也大于自身的期望值，那么两个变量之间的协方差就是正值。如果两个变量的变化趋势相反，即其中一个大于自身的期望值，另外一个却小于自身的期望值，那么两个变量之间的协方差就是负值\n",
    "\n",
    "#### (4)X,Y观测数据的协方差矩阵 \n",
    "$S=\\begin{bmatrix} S_{xx} & S_{xy}  \\\\ \n",
    "                    S_{xy} & S_{yy} \n",
    "   \\end{bmatrix} \\geq 0$ <br/> \n",
    "   S为非对称负定矩阵，满足$S_{xy}=S_{yx}$; $S_{xy}^2 \\leq S_{xx}S_{yy}$ (Schwarz不等式) <br/>\n",
    "   pearson相关系数反映两随变量线性相关强度\n",
    "#### (5) 皮尔逊相关系数和皮尔逊矩阵\n",
    "**Pearson相关系数** $r_{xy}=\\frac{S_{xy}}{\\sqrt{S_{xx}} \\sqrt{S_{xy}}}  (|r_{xy}\\geq0|)$ <br/>\n",
    "\n",
    "皮尔逊相关系数（Pearson Correlation）是衡量向量相似度的一种方式。输出范围为-1到+1，其中0代表无相关性，负值代表负相关，正值代表正相关。皮尔逊相关系数在欧几里德距离上做出了优化，对向量的值做了中心化处理，即对两个向量中的所有维度都减去元素的平均值，中心化后所有维度的平均值基本为0；然后对中心化结果求余弦距离，但余弦距离的计算要求每个向量中所有的值都必须非空，若两个向量v1=(3,2,4)、v2=(-1,2,null)，则无法进行余弦距离计算的。皮尔逊相关系数把向量中所有null维度赋值为0，再对结果进行余弦计算。 <br/>\n",
    "两个向量X、Y，计算出的皮尔逊相关系数含义做如下理解： <br/>\n",
    "\n",
    "当相关系数为0时，X和Y两向量不相关 <br/>\n",
    "当X的值增大（减小），Y值减小（增大），X和Y两向量负相关，相关系数在-1.0到0.0之间。 <br/>\n",
    "当X的值增大（减小），Y值增大（减小），X和Y两向量正相关，相关系数在0.0到+1.0之间。 <br/>\n",
    "通常通过以下取值范围判断向量的相关程度： <br/>\n",
    "\n",
    "0.8-1.0 极度相关 <br/>\n",
    "0.6-0.8 强相关 <br/>\n",
    "0.4-0.6 中等程度相关 <br/>\n",
    "0.2-0.4 弱相关 <br/>\n",
    "0.0-0.2 极弱相关或无相关 <br/>\n",
    "\n",
    "结论：皮尔逊相关系数既是欧几里德距离的升级，即它提供了对于变量取值范围不同的处理步骤，不同变量量纲上的差别在计算过程中去掉了；又是余弦相似度在维度值缺失情况下的一种改进。 <br/>\n",
    "\n",
    "**Pearson相关矩阵** $R=\\begin{pmatrix} 1 & r_{xy}\\\\ \n",
    "                              r_{yx} & 1 \n",
    "                   \\end{pmatrix}$ <br/>\n",
    "#### 二维总体数学特征\n",
    "分布函数 <br/>\n",
    "数学期望 <br/>\n",
    "方差、协方差 <br/>\n",
    "相关系数 <br/>\n",
    "#### 二维数字特征的性质\n",
    "$E(X+Y)=EX+EY, E(aX)=aEX$  <br/>\n",
    "$Var(X\\pm Y)=Var(X)+Var(Y)\\pm 2Cov(X,Y)$　当Ｘ与Ｙ相互独立时，$Cov(X,Y)=0$ <br/>\n",
    "$Cov(X,Y)=Cov(Y,X)$ <br/>\n",
    "$Cov(aX,bY)=abCov(X,Y)$ <br/>\n",
    "$Cov(X,Y)=E(XY)-E(X)\\cdot E(Y)$ <br/>"
   ]
  },
  {
   "cell_type": "code",
   "execution_count": 18,
   "metadata": {},
   "outputs": [
    {
     "name": "stdout",
     "output_type": "stream",
     "text": [
      "[['679.0'], ['824.0'], ['859.0'], ['910.0'], ['1028.0'], ['1068.0'], ['1307.0'], ['1439.0'], ['1457.0'], ['1220.0'], ['1149.3'], ['1233.3'], ['1454.0'], ['1716.1'], ['1868.0'], ['1773.9'], ['1723.1'], ['1937.9'], ['2252.7'], ['2426.4'], ['2518.1'], ['2720.9'], ['2789.9'], ['2997.3'], ['2943.7'], ['3201.9'], ['3624.1'], ['4038.2'], ['4517.8'], ['4862.4'], ['5294.7'], ['5934.5'], ['7171.0'], ['8664.4'], ['10202.2'], ['11962.5'], ['14928.3'], ['16909.2'], ['18547.9'], ['21617.8'], ['26638.1'], ['34634.4'], ['46759.4'], ['58478.1'], ['67884.6'], ['74462.6'], ['78345.2'], ['81910.9'], ['89403.6'], ['95933.3']]\n",
      "平均值为：16764.454000\n",
      "方差s^2为：711679654.959284\n",
      "标准差s为:26948.167462\n",
      "变异系数CV为:160.745870\n",
      "极差R为：95254.300000\n",
      "四分位极差R1为：14892.200000\n",
      "四分位标准差sigma为：11039.436620\n",
      "上截断点S1为：38752.275000\n",
      "下截断点S2为：-20816.525000\n",
      "偏度为：1.812346\n",
      "峰度为：1.851613\n"
     ]
    }
   ],
   "source": [
    "import numpy as np\n",
    "import codecs\n",
    "from scipy.stats import skew\n",
    "from scipy.stats import kurtosis\n",
    "\n",
    "#f = codecs.open('D:\\\\CODE\\\\lesson\\\\data_analysis_method\\\\1.descriptive_analysis\\\\1.1Digital characteristics of one-dimensional data\\\\t3.txt', mode='r', encoding='utf-8')\n",
    "f = codecs.open('t3.txt', mode='r', encoding='utf-8')\n",
    "# 打开txt文件，以‘utf-8’编码读取\n",
    "\n",
    "line = f.readline()   # 以行的形式进行读取文件\n",
    "\n",
    "list1 = []\n",
    "\n",
    "while line:\n",
    "   a = line.split()\n",
    "   b = a[1:2]   # 这是选取需要读取的位数\n",
    "   list1.append(b)  # 将其添加在列表之中\n",
    "   line = f.readline()\n",
    "\n",
    "f.close()\n",
    "\n",
    "print(list1)\n",
    "\n",
    "i=0\n",
    "while i<len(list1):\n",
    "    list1[i]=eval(list1[i][0])\n",
    "    i=i+1\n",
    "    \n",
    "#print(list1)\n",
    "arr=np.sort(list1)\n",
    "#print(arr)\n",
    "#求均值\n",
    "arr_mean = np.mean(arr)\n",
    " #求方差\n",
    "arr_var = np.var(arr)\n",
    "#求标准差\n",
    "arr_std = np.std(arr,ddof=1)\n",
    "#求变异系数\n",
    "arr_by=arr_std/arr_mean*100\n",
    "#求极差\n",
    "R=np.max(arr)-np.min(arr)\n",
    "#求四分位极差R1\n",
    "R1=np.percentile(arr,75)-np.percentile(arr,25)\n",
    "#求四分位标准差sigma\n",
    "sigma=R1/1.349\n",
    "#求上截断点S1\n",
    "S1=np.percentile(arr,75)+1.5*R1\n",
    "#求下截断点S2\n",
    "S2=np.percentile(arr,25)-1.5*R1\n",
    " #求偏度\n",
    "arr_skew=skew(arr)\n",
    "#求峰度\n",
    "arr_kurtosis=kurtosis(arr)\n",
    "print(\"平均值为：%f\" % arr_mean)\n",
    "print(\"方差s^2为：%f\" % arr_var)\n",
    "print(\"标准差s为:%f\" % arr_std)\n",
    "print(\"变异系数CV为:%f\" % arr_by)\n",
    "print(\"极差R为：%f\" % R)\n",
    "print(\"四分位极差R1为：%f\" % R1)\n",
    "print(\"四分位标准差sigma为：%f\" % sigma)\n",
    "print(\"上截断点S1为：%f\" % S1)\n",
    "print(\"下截断点S2为：%f\" % S2)\n",
    "print(\"偏度为：%f\" %  arr_skew)\n",
    "print(\"峰度为：%f\" %  arr_kurtosis)\n"
   ]
  },
  {
   "cell_type": "code",
   "execution_count": 51,
   "metadata": {},
   "outputs": [
    {
     "name": "stdout",
     "output_type": "stream",
     "text": [
      "o\n"
     ]
    }
   ],
   "source": [
    "#把txt文件转为csv文件\n",
    "import csv\n",
    "\n",
    "with open('1-9-3.csv','w') as f:\n",
    "    f_csv=csv.writer(f)\n",
    "    for line in open('example1_9.txt', 'r'):\n",
    "        new_line = line.strip().split()\n",
    "        f_csv.writerow(new_line)\n",
    "print('o')"
   ]
  },
  {
   "cell_type": "code",
   "execution_count": 60,
   "metadata": {},
   "outputs": [
    {
     "name": "stdout",
     "output_type": "stream",
     "text": [
      "    68   63    70   6   65    9   10   12   20   30   33   27   21   5   14  \\\n",
      "0  971  892  1125  82  931  112  162  321  315  375  462  352  305  84  229   \n",
      "\n",
      "   27.1   17   53   62  65.1  \n",
      "0   332  185  703  872   740  \n"
     ]
    },
    {
     "ename": "KeyError",
     "evalue": "\"['8'] not in index\"",
     "output_type": "error",
     "traceback": [
      "\u001b[1;31m---------------------------------------------------------------------------\u001b[0m",
      "\u001b[1;31mKeyError\u001b[0m                                  Traceback (most recent call last)",
      "\u001b[1;32m<ipython-input-60-aeef84803852>\u001b[0m in \u001b[0;36m<module>\u001b[1;34m\u001b[0m\n\u001b[0;32m      7\u001b[0m \u001b[0mprint\u001b[0m\u001b[1;33m(\u001b[0m\u001b[0mdates\u001b[0m\u001b[1;33m.\u001b[0m\u001b[0mhead\u001b[0m\u001b[1;33m(\u001b[0m\u001b[1;33m)\u001b[0m\u001b[1;33m)\u001b[0m\u001b[1;33m\u001b[0m\u001b[1;33m\u001b[0m\u001b[0m\n\u001b[0;32m      8\u001b[0m \u001b[1;32mfor\u001b[0m \u001b[0mx1\u001b[0m\u001b[1;33m,\u001b[0m\u001b[0mx2\u001b[0m \u001b[1;32min\u001b[0m \u001b[0mdates\u001b[0m\u001b[1;33m.\u001b[0m\u001b[0mhead\u001b[0m\u001b[1;33m(\u001b[0m\u001b[1;33m)\u001b[0m\u001b[1;33m:\u001b[0m\u001b[1;33m\u001b[0m\u001b[1;33m\u001b[0m\u001b[0m\n\u001b[1;32m----> 9\u001b[1;33m     \u001b[0mdate\u001b[0m \u001b[1;33m=\u001b[0m \u001b[0mdates\u001b[0m\u001b[1;33m[\u001b[0m\u001b[1;33m[\u001b[0m\u001b[0mx1\u001b[0m\u001b[1;33m,\u001b[0m\u001b[0mx2\u001b[0m\u001b[1;33m]\u001b[0m\u001b[1;33m]\u001b[0m\u001b[1;33m\u001b[0m\u001b[1;33m\u001b[0m\u001b[0m\n\u001b[0m\u001b[0;32m     10\u001b[0m \u001b[0mprint\u001b[0m\u001b[1;33m(\u001b[0m\u001b[0mdate\u001b[0m\u001b[1;33m.\u001b[0m\u001b[0mmean\u001b[0m\u001b[1;33m(\u001b[0m\u001b[1;33m)\u001b[0m\u001b[1;33m)\u001b[0m \u001b[1;31m#行均值\u001b[0m\u001b[1;33m\u001b[0m\u001b[1;33m\u001b[0m\u001b[0m\n\u001b[0;32m     11\u001b[0m \u001b[0mprint\u001b[0m\u001b[1;33m(\u001b[0m\u001b[0mdate\u001b[0m\u001b[1;33m.\u001b[0m\u001b[0mcov\u001b[0m\u001b[1;33m(\u001b[0m\u001b[1;33m)\u001b[0m\u001b[1;33m)\u001b[0m \u001b[1;31m#协方差矩阵\u001b[0m\u001b[1;33m\u001b[0m\u001b[1;33m\u001b[0m\u001b[0m\n",
      "\u001b[1;32mD:\\Anaconda3-2-20.11\\lib\\site-packages\\pandas\\core\\frame.py\u001b[0m in \u001b[0;36m__getitem__\u001b[1;34m(self, key)\u001b[0m\n\u001b[0;32m   2906\u001b[0m             \u001b[1;32mif\u001b[0m \u001b[0mis_iterator\u001b[0m\u001b[1;33m(\u001b[0m\u001b[0mkey\u001b[0m\u001b[1;33m)\u001b[0m\u001b[1;33m:\u001b[0m\u001b[1;33m\u001b[0m\u001b[1;33m\u001b[0m\u001b[0m\n\u001b[0;32m   2907\u001b[0m                 \u001b[0mkey\u001b[0m \u001b[1;33m=\u001b[0m \u001b[0mlist\u001b[0m\u001b[1;33m(\u001b[0m\u001b[0mkey\u001b[0m\u001b[1;33m)\u001b[0m\u001b[1;33m\u001b[0m\u001b[1;33m\u001b[0m\u001b[0m\n\u001b[1;32m-> 2908\u001b[1;33m             \u001b[0mindexer\u001b[0m \u001b[1;33m=\u001b[0m \u001b[0mself\u001b[0m\u001b[1;33m.\u001b[0m\u001b[0mloc\u001b[0m\u001b[1;33m.\u001b[0m\u001b[0m_get_listlike_indexer\u001b[0m\u001b[1;33m(\u001b[0m\u001b[0mkey\u001b[0m\u001b[1;33m,\u001b[0m \u001b[0maxis\u001b[0m\u001b[1;33m=\u001b[0m\u001b[1;36m1\u001b[0m\u001b[1;33m,\u001b[0m \u001b[0mraise_missing\u001b[0m\u001b[1;33m=\u001b[0m\u001b[1;32mTrue\u001b[0m\u001b[1;33m)\u001b[0m\u001b[1;33m[\u001b[0m\u001b[1;36m1\u001b[0m\u001b[1;33m]\u001b[0m\u001b[1;33m\u001b[0m\u001b[1;33m\u001b[0m\u001b[0m\n\u001b[0m\u001b[0;32m   2909\u001b[0m \u001b[1;33m\u001b[0m\u001b[0m\n\u001b[0;32m   2910\u001b[0m         \u001b[1;31m# take() does not accept boolean indexers\u001b[0m\u001b[1;33m\u001b[0m\u001b[1;33m\u001b[0m\u001b[1;33m\u001b[0m\u001b[0m\n",
      "\u001b[1;32mD:\\Anaconda3-2-20.11\\lib\\site-packages\\pandas\\core\\indexing.py\u001b[0m in \u001b[0;36m_get_listlike_indexer\u001b[1;34m(self, key, axis, raise_missing)\u001b[0m\n\u001b[0;32m   1252\u001b[0m             \u001b[0mkeyarr\u001b[0m\u001b[1;33m,\u001b[0m \u001b[0mindexer\u001b[0m\u001b[1;33m,\u001b[0m \u001b[0mnew_indexer\u001b[0m \u001b[1;33m=\u001b[0m \u001b[0max\u001b[0m\u001b[1;33m.\u001b[0m\u001b[0m_reindex_non_unique\u001b[0m\u001b[1;33m(\u001b[0m\u001b[0mkeyarr\u001b[0m\u001b[1;33m)\u001b[0m\u001b[1;33m\u001b[0m\u001b[1;33m\u001b[0m\u001b[0m\n\u001b[0;32m   1253\u001b[0m \u001b[1;33m\u001b[0m\u001b[0m\n\u001b[1;32m-> 1254\u001b[1;33m         \u001b[0mself\u001b[0m\u001b[1;33m.\u001b[0m\u001b[0m_validate_read_indexer\u001b[0m\u001b[1;33m(\u001b[0m\u001b[0mkeyarr\u001b[0m\u001b[1;33m,\u001b[0m \u001b[0mindexer\u001b[0m\u001b[1;33m,\u001b[0m \u001b[0maxis\u001b[0m\u001b[1;33m,\u001b[0m \u001b[0mraise_missing\u001b[0m\u001b[1;33m=\u001b[0m\u001b[0mraise_missing\u001b[0m\u001b[1;33m)\u001b[0m\u001b[1;33m\u001b[0m\u001b[1;33m\u001b[0m\u001b[0m\n\u001b[0m\u001b[0;32m   1255\u001b[0m         \u001b[1;32mreturn\u001b[0m \u001b[0mkeyarr\u001b[0m\u001b[1;33m,\u001b[0m \u001b[0mindexer\u001b[0m\u001b[1;33m\u001b[0m\u001b[1;33m\u001b[0m\u001b[0m\n\u001b[0;32m   1256\u001b[0m \u001b[1;33m\u001b[0m\u001b[0m\n",
      "\u001b[1;32mD:\\Anaconda3-2-20.11\\lib\\site-packages\\pandas\\core\\indexing.py\u001b[0m in \u001b[0;36m_validate_read_indexer\u001b[1;34m(self, key, indexer, axis, raise_missing)\u001b[0m\n\u001b[0;32m   1302\u001b[0m             \u001b[1;32mif\u001b[0m \u001b[0mraise_missing\u001b[0m\u001b[1;33m:\u001b[0m\u001b[1;33m\u001b[0m\u001b[1;33m\u001b[0m\u001b[0m\n\u001b[0;32m   1303\u001b[0m                 \u001b[0mnot_found\u001b[0m \u001b[1;33m=\u001b[0m \u001b[0mlist\u001b[0m\u001b[1;33m(\u001b[0m\u001b[0mset\u001b[0m\u001b[1;33m(\u001b[0m\u001b[0mkey\u001b[0m\u001b[1;33m)\u001b[0m \u001b[1;33m-\u001b[0m \u001b[0mset\u001b[0m\u001b[1;33m(\u001b[0m\u001b[0max\u001b[0m\u001b[1;33m)\u001b[0m\u001b[1;33m)\u001b[0m\u001b[1;33m\u001b[0m\u001b[1;33m\u001b[0m\u001b[0m\n\u001b[1;32m-> 1304\u001b[1;33m                 \u001b[1;32mraise\u001b[0m \u001b[0mKeyError\u001b[0m\u001b[1;33m(\u001b[0m\u001b[1;34mf\"{not_found} not in index\"\u001b[0m\u001b[1;33m)\u001b[0m\u001b[1;33m\u001b[0m\u001b[1;33m\u001b[0m\u001b[0m\n\u001b[0m\u001b[0;32m   1305\u001b[0m \u001b[1;33m\u001b[0m\u001b[0m\n\u001b[0;32m   1306\u001b[0m             \u001b[1;31m# we skip the warning on Categorical\u001b[0m\u001b[1;33m\u001b[0m\u001b[1;33m\u001b[0m\u001b[1;33m\u001b[0m\u001b[0m\n",
      "\u001b[1;31mKeyError\u001b[0m: \"['8'] not in index\""
     ]
    }
   ],
   "source": [
    "#例1.9\n",
    "import pandas as pd\n",
    "import numpy as np\n",
    "\n",
    "dates = pd.read_csv(r\"1-9-3.csv\",encoding='gbk')\n",
    "dates.head()\n",
    "print(dates.head())\n",
    "date = dates[[x1,x2]]\n",
    "print(date.mean()) #行均值\n",
    "print(date.cov()) #协方差矩阵\n",
    "print(date.corr()) #皮尔逊相关系数\n",
    "print(date.corr('spearman')) #spearamn相关系数"
   ]
  },
  {
   "cell_type": "code",
   "execution_count": 54,
   "metadata": {},
   "outputs": [
    {
     "ename": "NameError",
     "evalue": "name 'head' is not defined",
     "output_type": "error",
     "traceback": [
      "\u001b[1;31m---------------------------------------------------------------------------\u001b[0m",
      "\u001b[1;31mNameError\u001b[0m                                 Traceback (most recent call last)",
      "\u001b[1;32m<ipython-input-54-58eeba4bfd85>\u001b[0m in \u001b[0;36m<module>\u001b[1;34m\u001b[0m\n\u001b[1;32m----> 1\u001b[1;33m \u001b[0mhelp\u001b[0m\u001b[1;33m(\u001b[0m\u001b[0mhead\u001b[0m\u001b[1;33m(\u001b[0m\u001b[1;33m)\u001b[0m\u001b[1;33m)\u001b[0m\u001b[1;33m\u001b[0m\u001b[1;33m\u001b[0m\u001b[0m\n\u001b[0m",
      "\u001b[1;31mNameError\u001b[0m: name 'head' is not defined"
     ]
    }
   ],
   "source": []
  },
  {
   "cell_type": "code",
   "execution_count": 42,
   "metadata": {},
   "outputs": [
    {
     "name": "stdout",
     "output_type": "stream",
     "text": [
      "[[1.         0.97970908]\n",
      " [0.97970908 1.        ]]\n"
     ]
    }
   ],
   "source": [
    "#例1.9(2)求Pearson系数\n",
    "import numpy as np\n",
    "import matplotlib.pyplot as pl\n",
    "x_simple = np.array([68,63,70,6,65,9,10,12,20,30,33,27,21,5,14,27,17,53,62,65])\n",
    "y_simple = np.array([971,892,1125,82,931,112,162,321,315,375,462,352,305,84,229,332,185,703,872,740])\n",
    "my_rho = np.corrcoef(x_simple, y_simple)#相关矩阵\n",
    "print(my_rho)"
   ]
  },
  {
   "cell_type": "markdown",
   "metadata": {},
   "source": [
    "### 1.3.2 多维数据的数字特征及相关矩阵\n",
    "\n",
    "### 1.3.3 总体的数字特征、相关矩阵及多维数据正态分布"
   ]
  },
  {
   "cell_type": "code",
   "execution_count": null,
   "metadata": {},
   "outputs": [],
   "source": []
  }
 ],
 "metadata": {
  "kernelspec": {
   "display_name": "Python 3",
   "language": "python",
   "name": "python3"
  },
  "language_info": {
   "codemirror_mode": {
    "name": "ipython",
    "version": 3
   },
   "file_extension": ".py",
   "mimetype": "text/x-python",
   "name": "python",
   "nbconvert_exporter": "python",
   "pygments_lexer": "ipython3",
   "version": "3.8.5"
  }
 },
 "nbformat": 4,
 "nbformat_minor": 4
}
