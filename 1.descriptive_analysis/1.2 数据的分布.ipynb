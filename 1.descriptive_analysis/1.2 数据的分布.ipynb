{
 "cells": [
  {
   "cell_type": "markdown",
   "id": "98b38a8f",
   "metadata": {
    "tags": []
   },
   "source": [
    "# 1.2 数据的分布\n",
    "\n",
    "## 1.2.1 直方图、经验分布函数与QQ图\n",
    "\n",
    "### 1.直方图\n",
    "\n",
    "**直方图**(Histogram)，又称**质量分布图**，是一种统计报告图，由一系列高度不等的纵向条纹或线段表示数据分布的情况。 一般用横轴表示数据类型，纵轴表示分布情况（频率）。\n",
    "    \n",
    "画直方图的步骤：  \n",
    "（1）**收集数据。**抽取的样本数量过小，将会产生较大误差，可信度低，也就失去了统计的意义。因此，样本数不应少于50个。      \n",
    "（2）**确定数据的极差(R)。**用数据的最大值减去最小值求得。    \n",
    "（3）**确定组距(h)。**先确定直方图的组数，然后以此组数去除极差，可得直方图每组的宽度，即组距。  \n",
    "（4）**确定各组的界限值。**为避免出现数据值与组界限值重合而造成频率计算困难，组的界限值单位应取最小测量单位的1/2。\n",
    "\n",
    "直方图的应用场景：  \n",
    "（1）直方图用于概率分布，展示一组数据在指定范围内的出现概率。  \n",
    "（2）可以用于展示数据分布频率情况。  \n",
    "（3）用于确认众数、中位数的位置。  \n",
    "（4）关注数据存在缺口或者异常值。   "
   ]
  },
  {
   "cell_type": "code",
   "execution_count": 2,
   "id": "0aa4e527",
   "metadata": {},
   "outputs": [
    {
     "data": {
      "image/png": "[encoded data removed]",
      "text/plain": [
       "<Figure size 1080x360 with 1 Axes>"
      ]
     },
     "metadata": {
      "needs_background": "light"
     },
     "output_type": "display_data"
    }
   ],
   "source": [
    "import matplotlib.pyplot as plt\n",
    "import numpy as np\n",
    "import pandas as pd\n",
    "\n",
    "x_value = [74.3,78.8,68.8,78  ,70.4,80.5,80.5,69.7,71.2,73.5,\n",
    "           79.5,75.6,75  ,78.8,72  ,72  ,72  ,74.3,71.2,72  ,\n",
    "           75  ,73.5,78.8,74.3,75.8,65  ,74.3,71.2,69.7,68  ,\n",
    "           73.5,75  ,72  ,64.3,75.8,80.3,69.7,74.3,73.5,73.5,\n",
    "           75.8,75.8,68.8,76.5,70.4,71.2,81.2,75  ,70.4,68  ,\n",
    "           70.4,72  ,76.5,74.3,76.5,77.6,67.3,72  ,75  ,74.3,\n",
    "           73.5,79.5,73.5,74.7,65  ,76.5,81.6,75.4,72.7,72.7,\n",
    "           67.2,76.5,72.7,70.4,77.2,68.8,67.3,67.3,67.3,72.7,\n",
    "           75.8,73.5,75  ,72.7,73.5,73.5,72.7,81.6,70.3,74.3,\n",
    "           73.5,79.5,70.4,76.5,72.7,77.2,84.3,75  ,76.5,70.4]\n",
    "plt.figure(figsize=(15,5))\n",
    "plt.hist(x_value,bins=10,edgecolor='k')\n",
    "plt.show()"
   ]
  },
  {
   "cell_type": "markdown",
   "id": "3cbcd42d",
   "metadata": {
    "tags": []
   },
   "source": [
    "### 2.经验分布函数   \n",
    "\n",
    "**经验分布函数**(cumulative distribution function)亦称**累积分布函数**，统计学中的基本概念之一。经验分布函数Fn(x)具有分布函数的性质，我们可以将其看成是以等概率1/n 取值X<sub>1</sub>，X<sub>2</sub>，...，X<sub>n</sub>的离散型随机变量的分布函数。且该函数的图形呈跳跃式一条台阶形折线，如观测值不重复，则每一跳跃为1/n ，如有重复，则按1/n的倍数跳跃上升。  \n",
    "\n",
    "设(X<sub>1</sub>，X<sub>2</sub>，…，X<sub>n</sub>)是来自总体X的一个简单随机样本，将其一个观测值(x<sub>1</sub>，x<sub>2</sub>，…x<sub>n</sub>)按从小到大的顺序排列成\n",
    "$$x_{(1)}<x_{(2)}<...<x_{(n)}$$  \n",
    "其中$x_{(i)}(i=1,2,...,r)$出现的频数为$n_i(n_1+n_2+...+n_r=n)$,记\n",
    "$$F_n(x)=\\begin{cases}0,&x<x_{(1)}\\\\\\frac{n_1+n_2+...+n_k}{n},&x_{(k)}\\leq x<x_{(k+1)};(k=1,2,...,r-1)\\\\1,&x\\geq x_{(r)}\\end{cases}$$  \n",
    "称F(X)为总体X的经验分布函数。  \n",
    "\n",
    "**图像意义**  \n",
    "经验分布函数的图像是一条跳跃式上升的阶梯形曲线，在每个间断点x<sub>(k)</sub>处跳跃。若样本观测值的各分量x<sub>1</sub>，x<sub>2</sub>，…x<sub>n</sub>不重复，则每一跃度为$\\frac{1}{n}$；若某一分量重复m次，则在该分量处跃度为$\\frac{m}{n}$。\n"
   ]
  },
  {
   "cell_type": "code",
   "execution_count": 3,
   "id": "3c831320",
   "metadata": {
    "scrolled": true
   },
   "outputs": [
    {
     "data": {
      "image/png": "[encoded data removed]",
      "text/plain": [
       "<Figure size 1080x360 with 1 Axes>"
      ]
     },
     "metadata": {
      "needs_background": "light"
     },
     "output_type": "display_data"
    }
   ],
   "source": [
    "plt.figure(figsize=(15,5))\n",
    "plt.hist(x_value, bins=100, histtype='step',cumulative=True, density=True, color='darkcyan')\n",
    "plt.show()"
   ]
  },
  {
   "cell_type": "markdown",
   "id": "df501f98",
   "metadata": {
    "tags": []
   },
   "source": [
    "### 3.QQ图  \n",
    "\n",
    "**Q-Q图**(quantile-quantile plot)是一种散点图，横坐标为某一样本的分位数，纵坐标为另一样本的分位数，横坐标和纵坐标组成的散点图代表同一累计概率所对应的分位数。若散点图在直线y=x附近分布，则这两个样本是同等分布；若横坐标样本为标准正态分布并且散点图在直线y=x附近分布，则纵坐标样本符合正态分布，并且直线斜率代表样本标准差，截距代表样本均值。  \n",
    "\n",
    "**分位数**(quantile)的概念与累计分布函数类似，也是一种概率累计过程，如第一四分位数是累积分布概率达到$\\frac{1}{4}$时所对应的变量值，第二四分位数是累计分布概率达到$\\frac{2}{4}$时对应的变量值，第三四分位数是累计分布概率达到$\\frac{3}{4}$时对应的变量值.  \n",
    "画正态QQ图的步骤：  \n",
    "* 将数据按升序排列  \n",
    "* 计算分位数  \n",
    "* 以分位数为x坐标，排列好的数据为y坐标描点  \n",
    "![Image](https://pic4.zhimg.com/80/v2-79bacf0988b272a73efba48fe31fdc13_720w.jpg)  \n",
    "\n",
    "普通QQ图：  \n",
    "普通Q-Q图用于评估**两个数据集**的分布的相似程度，普通Q-Q图与正态Q-Q图的不同点在于普通Q-Q图的横坐标是未知数据集的分位数，正态Q-Q图的横坐标是标准正态分布的分位数，其他步骤都一样。\n",
    "![Image](https://pic2.zhimg.com/v2-5053e2b542021c9920f8e905ec58f74d_r.jpg)"
   ]
  },
  {
   "cell_type": "code",
   "execution_count": 4,
   "id": "1e4dca79",
   "metadata": {},
   "outputs": [
    {
     "data": {
      "image/png": "[encoded data removed]",
      "text/plain": [
       "<Figure size 432x288 with 1 Axes>"
      ]
     },
     "metadata": {
      "needs_background": "light"
     },
     "output_type": "display_data"
    }
   ],
   "source": [
    "from scipy import stats\n",
    "stats.probplot(x_value, dist=\"norm\", plot=plt)\n",
    "plt.show()"
   ]
  },
  {
   "cell_type": "markdown",
   "id": "ff9a9b54-85dc-4fda-977e-63467cad3923",
   "metadata": {},
   "source": [
    "## 1.2.2 茎叶图  \n",
    "茎叶图的思路是将数组中的数按位数进行比较，将数的大小基本不变或变化不大的位作为一个主干（茎），将变化大的位的数作为分枝（叶），列在主干的后面，这样就可以清楚地看到每个主干后面的几个数，每个数具体是多少。将茎叶图茎和叶逆时针方向旋转90度，实际上就是一个直方图。  \n",
    "\n",
    "**与直方图相比，由茎叶图更能细致地看出数据分布的特点。从茎叶图可大致看出这组数据是否对称、分散性如何、是否有异常值、数据中是否有间隙等。利用茎叶图，很自然地可以对所有数据排序，从茎叶图可以看出由原始数据得到的次序统计量值。**\n",
    "\n",
    "优点：  \n",
    "* 从统计图上没有原始数据信息的损失，所有数据信息都可以从茎叶图中得到；\n",
    "* 茎叶图中的数据可以随时记录，随时添加，方便记录与表示。  \n",
    "\n",
    "缺点：  \n",
    "茎叶图只便于表示个位之前相差不大的数据，而且茎叶图只方便记录两组的数据。两个以上的数据虽然能够记录，但是没有表示两个记录那么直观、清晰。\n",
    "\n",
    "画出的茎叶如下：  \n",
    "茎 | 叶  \n",
    "64 | 3 \n",
    "65 | 0 0\n",
    "66 | \n",
    "67 | 2 3 3 3 3  \n",
    "68 | 0 0 8 8 8  \n",
    "69 | 7 7 7  \n",
    "70 | 3 4 4 4 4 4 4 4 \n",
    "71 | 2 2 2 2  \n",
    "72 | 0 0 0 0 0 0 0 7 7 7 7 7 7 7\n",
    "73 | 5 5 5 5 5 5 5 5 5 5 5  \n",
    "74 | 3 3 3 3 3 3 3 3 7\n",
    "75 | 0 0 0 0 0 0 0 4 6 8 8 8 8 8\n",
    "76 | 5 5 5 5 5 5 5\n",
    "77 | 2 2 6\n",
    "78 | 0 8 8 8\n",
    "79 | 5 5 5\n",
    "80 | 3 5 5\n",
    "81 | 2 6 6\n",
    "82 | \n",
    "83 | \n",
    "84 | 3\n",
    "注意：一个茎可以有很多叶也可以不出现叶。    \n",
    "\n",
    "茎叶图的应用之一————**基数排序**："
   ]
  },
  {
   "cell_type": "code",
   "execution_count": 4,
   "id": "779ea77e-863e-4843-9950-4e09fb9afde3",
   "metadata": {},
   "outputs": [
    {
     "name": "stdout",
     "output_type": "stream",
     "text": [
      "[58, 85, 10, 63, 52, 63, 37, 78, 33, 28]\n",
      "[[10], [], [52], [63, 63, 33], [], [85], [], [37], [58, 78, 28], []]\n",
      "[[], [10], [28], [33, 37], [], [52, 58], [63, 63], [78], [85], []]\n",
      "[10, 28, 33, 37, 52, 58, 63, 63, 78, 85]\n"
     ]
    }
   ],
   "source": [
    "import random\n",
    "\n",
    "list1 = [random.randint(0,100) for i in range(0,10)]\n",
    "print(list1)\n",
    "\n",
    "n = len(str(max(list1)))\n",
    "for i in range(n):\n",
    "    bucket = [[] for i in range(10)]\n",
    "    for j in list1:\n",
    "        bucket[j//(10**i)%10].append(j)\n",
    "    print(bucket)\n",
    "    list1 = [j for i in bucket for j in i]\n",
    "print(list1)"
   ]
  }
 ],
 "metadata": {
  "kernelspec": {
   "display_name": "Python 3 (ipykernel)",
   "language": "python",
   "name": "python3"
  },
  "language_info": {
   "codemirror_mode": {
    "name": "ipython",
    "version": 3
   },
   "file_extension": ".py",
   "mimetype": "text/x-python",
   "name": "python",
   "nbconvert_exporter": "python",
   "pygments_lexer": "ipython3",
   "version": "3.9.12"
  },
  "toc": {
   "base_numbering": 1,
   "nav_menu": {},
   "number_sections": false,
   "sideBar": true,
   "skip_h1_title": false,
   "title_cell": "Table of Contents",
   "title_sidebar": "Contents",
   "toc_cell": false,
   "toc_position": {
    "height": "calc(100% - 180px)",
    "left": "10px",
    "top": "150px",
    "width": "264.787px"
   },
   "toc_section_display": true,
   "toc_window_display": true
  },
  "varInspector": {
   "cols": {
    "lenName": 16,
    "lenType": 16,
    "lenVar": 40
   },
   "kernels_config": {
    "python": {
     "delete_cmd_postfix": "",
     "delete_cmd_prefix": "del ",
     "library": "var_list.py",
     "varRefreshCmd": "print(var_dic_list())"
    },
    "r": {
     "delete_cmd_postfix": ") ",
     "delete_cmd_prefix": "rm(",
     "library": "var_list.r",
     "varRefreshCmd": "cat(var_dic_list()) "
    }
   },
   "types_to_exclude": [
    "module",
    "function",
    "builtin_function_or_method",
    "instance",
    "_Feature"
   ],
   "window_display": false
  }
 },
 "nbformat": 4,
 "nbformat_minor": 5
}
