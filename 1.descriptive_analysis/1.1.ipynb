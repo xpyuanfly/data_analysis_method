{
 "cells": [
  {
   "cell_type": "markdown",
   "metadata": {
    "tags": []
   },
   "source": [
    "# 1 第一章  数据描述性分析\n",
    "数据的描述性分析即是从数据出发概况数据特征\n",
    "包括数据的位置性、分散性、关联性等数字特征和反映数据整体结构的分布特征\n",
    "这是数据分析（data analysis）的第一步。\n",
    "\n",
    "本章重点介绍1维和多维数据的描述性分析的基本内容\n",
    "\n",
    "## 1.1  一维数据的数字特征\n",
    "\n",
    "设有*n*个一维数据\n",
    "\n",
    "x<sub>1</sub> x<sub>2</sub> ... x<sub>n</sub> \n",
    "\n",
    "这*n*个值为样本观测值，*n*为样本容量，数据分析的任务就是要对该样本观测值进行分析，提取数据中所包含的有用信息，进一步对总体信息作出推断。\n",
    "\n",
    "通过某些简单的量概括其中包含的主要信息或特征。\n",
    "\n",
    "主要包括：1）集中位置；2）分散程度；3）数据分布的形状特征等等。\n",
    "\n",
    "### 1.1.1 位置的数字特征\n",
    "1.均值（mean） kmeans聚类 - 中center 中心\n",
    "\n",
    "<!-- $e^{i \\ pi}+1=0$ -->\n",
    "\n",
    "$$\\bar{x} = (\\sum_{i=1}^n xi)/n  $$"
   ]
  },
  {
   "cell_type": "code",
   "execution_count": 2,
   "metadata": {},
   "outputs": [],
   "source": [
    "import numpy as np\n",
    "\n",
    "s = [74.3,78.8,68.8,78  ,70.4,80.5,80.5,69.7,71.2,73.5,\n",
    "     79.5,75.6,75  ,78.8,72  ,72  ,72  ,74.3,71.2,72  ,\n",
    "     75  ,73.5,78.8,74.3,75.8,65  ,74.3,71.2,69.7,68  ,\n",
    "     73.5,75  ,72  ,64.3,75.8,80.3,69.7,74.3,73.5,73.5,\n",
    "     75.8,75.8,68.8,76.5,70.4,71.2,81.2,75  ,70.4,68  ,\n",
    "     70.4,72  ,76.5,74.3,76.5,77.6,67.3,72  ,75  ,74.3,\n",
    "     73.5,79.5,73.5,74.7,65  ,76.5,81.6,75.4,72.7,72.7,\n",
    "     67.2,76.5,72.7,70.4,77.2,68.8,67.3,67.3,67.3,72.7,\n",
    "     75.8,73.5,75  ,72.7,73.5,73.5,72.7,81.6,70.3,74.3,\n",
    "     73.5,79.5,70.4,76.5,72.7,77.2,84.3,75  ,76.5,70.4]"
   ]
  },
  {
   "cell_type": "code",
   "execution_count": 8,
   "metadata": {},
   "outputs": [
    {
     "name": "stdout",
     "output_type": "stream",
     "text": [
      "s的平均值为：73.660000\n"
     ]
    }
   ],
   "source": [
    "s_ave = np.mean(s)\n",
    "print(\"s的平均值为：%f\"%s_ave)"
   ]
  },
  {
   "cell_type": "markdown",
   "metadata": {},
   "source": [
    "2.中位数（median）  \n",
    "代表一个样本、种群或概率分布中的一个数值，其可将数值集合划分为相等的上下两部分。对于有限的数集，可以通过把所有观察值高低排序后找出正中间的一个作为中位数。如果观察值有偶数个，则中位数不唯一，通常取最中间的两个数值的平均数作为中位数。"
   ]
  },
  {
   "cell_type": "code",
   "execution_count": 9,
   "metadata": {},
   "outputs": [
    {
     "name": "stdout",
     "output_type": "stream",
     "text": [
      "s的中位数为： 73.5\n"
     ]
    }
   ],
   "source": [
    "s.sort()\n",
    "half = len(s) // 2\n",
    "s_med = (s[half] + s[~half])/2\n",
    "print(\"s的中位数为：\",s_med)  # a + ~a = -1"
   ]
  },
  {
   "cell_type": "markdown",
   "metadata": {},
   "source": [
    "3.分位数（Quantile）  \n",
    "亦称分位点，是指将一个随机变量的概率分布范围分为几个等份的数值点，常用的有中位数（即二分位数）、四分位数、百分位数等。  \n",
    "\n",
    "numpy.percentile(a, q)    \n",
    "a: 输入数组  \n",
    "q: 要计算的百分位数，在 0 ~ 100 之间  "
   ]
  },
  {
   "cell_type": "code",
   "execution_count": 3,
   "metadata": {},
   "outputs": [
    {
     "name": "stdout",
     "output_type": "stream",
     "text": [
      "s的0.25分位数为71.200000，0.5分位数为73.500000，0.95分位数为81.627000\n"
     ]
    }
   ],
   "source": [
    "s_q1 = np.percentile(s,25)\n",
    "s_q2 = np.percentile(s,50)\n",
    "s_q3 = np.percentile(s,99)\n",
    "print(\"s的0.25分位数为%f，0.5分位数为%f，0.95分位数为%f\"%(s_q1,s_q2,s_q3))"
   ]
  },
  {
   "cell_type": "markdown",
   "metadata": {},
   "source": [
    "4.三均值  \n",
    "计算公式：$$\\hat{M}=\\frac{1}{4}Q_1+\\frac{1}{2}Q_2+\\frac{1}{4}Q_3$$\n",
    "其中，$Q_1$为数据的下四分位数，$Q_2$为数据的中位数，$Q_3$为数据的上四分位数。  \n",
    "\n",
    "作为一个分布的中心的测量值，三均值的一个优势是，它既反映了分布的中心值，也不失对极端值的注意。"
   ]
  },
  {
   "cell_type": "code",
   "execution_count": 11,
   "metadata": {},
   "outputs": [
    {
     "name": "stdout",
     "output_type": "stream",
     "text": [
      "s的三均值为： 74.95675\n"
     ]
    }
   ],
   "source": [
    "print(\"s的三均值为：\",0.25*s_q1+0.5*s_q2+0.25*s_q3)"
   ]
  },
  {
   "cell_type": "markdown",
   "metadata": {},
   "source": [
    "1.1.2"
   ]
  },
  {
   "cell_type": "markdown",
   "metadata": {},
   "source": [
    "方差$$s^2=\\frac{1}{n-1}\\sum_{i=1}^n (x_i-\\bar{x})^2$$"
   ]
  },
  {
   "cell_type": "code",
   "execution_count": 12,
   "metadata": {},
   "outputs": [
    {
     "name": "stdout",
     "output_type": "stream",
     "text": [
      "s的样本方差为： 15.524242424242416\n"
     ]
    }
   ],
   "source": [
    "s_var = np.var(s,ddof=1)\n",
    "print(\"s的样本方差为：\",s_var)"
   ]
  },
  {
   "cell_type": "markdown",
   "metadata": {},
   "source": [
    "标准差$$s=\\sqrt{s^2}=\\sqrt{\\frac{1}{n-1}\\sum_{i=1}^n (x_i-\\bar{x})^2}$$"
   ]
  },
  {
   "cell_type": "code",
   "execution_count": 13,
   "metadata": {},
   "outputs": [
    {
     "name": "stdout",
     "output_type": "stream",
     "text": [
      "s的样本标准差为： 3.9400815250756445\n"
     ]
    }
   ],
   "source": [
    "s_std = np.std(s,ddof=1)\n",
    "print(\"s的样本标准差为：\",s_std)"
   ]
  },
  {
   "cell_type": "markdown",
   "metadata": {},
   "source": [
    "变异系数$$CV=100\\times\\frac{s}{\\bar{x}}(\\%)$$"
   ]
  },
  {
   "cell_type": "code",
   "execution_count": 14,
   "metadata": {},
   "outputs": [
    {
     "name": "stdout",
     "output_type": "stream",
     "text": [
      "s的变异系数为：5.349011%\n"
     ]
    }
   ],
   "source": [
    "s_cv = s_std/s_ave*100\n",
    "print(\"s的变异系数为：%f%%\"%(s_cv))"
   ]
  },
  {
   "cell_type": "markdown",
   "metadata": {},
   "source": [
    "极差$$R=x_{(n)}-x_{(1)}$$"
   ]
  },
  {
   "cell_type": "code",
   "execution_count": 15,
   "metadata": {},
   "outputs": [
    {
     "name": "stdout",
     "output_type": "stream",
     "text": [
      "s的极差为： 20.0\n"
     ]
    }
   ],
   "source": [
    "s_r = max(s)-min(s)\n",
    "print(\"s的极差为：\",s_r)"
   ]
  },
  {
   "cell_type": "markdown",
   "metadata": {},
   "source": [
    "四分位极差$$R_1=Q_3-Q_1$$"
   ]
  },
  {
   "cell_type": "code",
   "execution_count": 16,
   "metadata": {},
   "outputs": [
    {
     "name": "stdout",
     "output_type": "stream",
     "text": [
      "s的四分位极差为：10.427000\n"
     ]
    }
   ],
   "source": [
    "s_r1 = s_q3 - s_q1\n",
    "print(\"s的四分位极差为：%f\"%(s_r1))"
   ]
  },
  {
   "cell_type": "markdown",
   "metadata": {},
   "source": [
    "下、上截断点$$Q_1-1.5R_1$$$$Q_3+1.5R_1$$"
   ]
  },
  {
   "cell_type": "code",
   "execution_count": 17,
   "metadata": {},
   "outputs": [
    {
     "name": "stdout",
     "output_type": "stream",
     "text": [
      "s的下截断点为：55.559500\n",
      "s的上截断点为：97.267500\n"
     ]
    }
   ],
   "source": [
    "s_lcp = s_q1 - 1.5*s_r1\n",
    "s_ucp = s_q3 + 1.5*s_r1\n",
    "print(\"s的下截断点为：%f\"%s_lcp)\n",
    "print(\"s的上截断点为：%f\"%s_ucp)"
   ]
  },
  {
   "cell_type": "markdown",
   "metadata": {},
   "source": [
    "偏度$$\\frac{n}{(n-1)(n-2)}\\frac{1}{s^3}\\sum_{i=1}^n (x_i-\\bar{x})^3$$"
   ]
  },
  {
   "cell_type": "code",
   "execution_count": 18,
   "metadata": {},
   "outputs": [
    {
     "name": "stdout",
     "output_type": "stream",
     "text": [
      "s的偏度为：0.060075\n"
     ]
    }
   ],
   "source": [
    "n = len(s)\n",
    "s_g1 = n/((n-1)*(n-2))*(1/(s_std**3))*sum((s-s_ave)**3)\n",
    "print(\"s的偏度为：%f\"%s_g1)"
   ]
  },
  {
   "cell_type": "markdown",
   "metadata": {},
   "source": [
    "峰度$$\\frac{n(n+1)}{(n-1)(n-2)(n-3)}\\frac{1}{s^4}\\sum_{i=1}^n (x_i-\\bar{x})^4-\\frac{3(n-1)^2}{(n-2)(n-3)}$$"
   ]
  },
  {
   "cell_type": "code",
   "execution_count": 19,
   "metadata": {},
   "outputs": [
    {
     "name": "stdout",
     "output_type": "stream",
     "text": [
      "s的峰度为：0.033869\n"
     ]
    }
   ],
   "source": [
    "s_g2 = (n*(n+1))/((n-1)*(n-2)*(n-3))*(1/(s_std**4))*sum((s-s_ave)**4)-(3*(n-1)**2)/((n-2)*(n-3))\n",
    "print(\"s的峰度为：%f\"%s_g2)"
   ]
  },
  {
   "cell_type": "code",
   "execution_count": 3,
   "metadata": {
    "tags": []
   },
   "outputs": [
    {
     "data": {
      "text/plain": [
       "[False,\n",
       " 2,\n",
       " False,\n",
       " 4,\n",
       " False,\n",
       " 6,\n",
       " False,\n",
       " 8,\n",
       " False,\n",
       " 10,\n",
       " False,\n",
       " 12,\n",
       " False,\n",
       " 14,\n",
       " False,\n",
       " 16,\n",
       " False,\n",
       " 18,\n",
       " False,\n",
       " 20,\n",
       " False,\n",
       " 22,\n",
       " False,\n",
       " 24,\n",
       " False,\n",
       " 26,\n",
       " False,\n",
       " 28,\n",
       " False,\n",
       " 30,\n",
       " False,\n",
       " 32,\n",
       " False,\n",
       " 34,\n",
       " False,\n",
       " 36,\n",
       " False,\n",
       " 38,\n",
       " False,\n",
       " 40,\n",
       " False,\n",
       " 42,\n",
       " False,\n",
       " 44,\n",
       " False,\n",
       " 46,\n",
       " False,\n",
       " 48,\n",
       " False,\n",
       " 50,\n",
       " False,\n",
       " 52,\n",
       " False,\n",
       " 54,\n",
       " False,\n",
       " 56,\n",
       " False,\n",
       " 58,\n",
       " False,\n",
       " 60,\n",
       " False,\n",
       " 62,\n",
       " False,\n",
       " 64,\n",
       " False,\n",
       " 66,\n",
       " False,\n",
       " 68,\n",
       " False,\n",
       " 70,\n",
       " False,\n",
       " 72,\n",
       " False,\n",
       " 74,\n",
       " False,\n",
       " 76,\n",
       " False,\n",
       " 78,\n",
       " False,\n",
       " 80,\n",
       " False,\n",
       " 82,\n",
       " False,\n",
       " 84,\n",
       " False,\n",
       " 86,\n",
       " False,\n",
       " 88,\n",
       " False,\n",
       " 90,\n",
       " False,\n",
       " 92,\n",
       " False,\n",
       " 94,\n",
       " False,\n",
       " 96,\n",
       " False,\n",
       " 98,\n",
       " False]"
      ]
     },
     "execution_count": 3,
     "metadata": {},
     "output_type": "execute_result"
    }
   ],
   "source": [
    "ls = list(map(lambda x: x if x%2==0 else False ,range(1,100)))\n",
    "ls"
   ]
  },
  {
   "cell_type": "code",
   "execution_count": null,
   "metadata": {},
   "outputs": [],
   "source": []
  }
 ],
 "metadata": {
  "kernelspec": {
   "display_name": "Python 3 (ipykernel)",
   "language": "python",
   "name": "python3"
  },
  "language_info": {
   "codemirror_mode": {
    "name": "ipython",
    "version": 3
   },
   "file_extension": ".py",
   "mimetype": "text/x-python",
   "name": "python",
   "nbconvert_exporter": "python",
   "pygments_lexer": "ipython3",
   "version": "3.11.4"
  },
  "vscode": {
   "interpreter": {
    "hash": "a4dded33d7e5587329f3b5bd298582320440e731ec97d683ac8324bdf803f54d"
   }
  }
 },
 "nbformat": 4,
 "nbformat_minor": 4
}
